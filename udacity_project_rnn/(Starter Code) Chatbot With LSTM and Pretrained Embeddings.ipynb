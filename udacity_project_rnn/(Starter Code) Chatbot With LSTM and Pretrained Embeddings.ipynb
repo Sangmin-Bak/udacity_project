{
 "cells": [
  {
   "cell_type": "markdown",
   "metadata": {
    "id": "pJAWnBFlkE2w"
   },
   "source": [
    "# LSTM Bot\n",
    "\n",
    "## Project Overview\n",
    "\n",
    "In this project, you will build a chatbot that can converse with you at the command line. The chatbot will use a Sequence to Sequence text generation architecture with an LSTM as it's memory unit. You will also learn to use pretrained word embeddings to improve the performance of the model. At the conclusion of the project, you will be able to show your chatbot to potential employers.\n",
    "\n",
    "Additionally, you have the option to use pretrained word embeddings in your model. We have loaded Brown Embeddings from Gensim in the starter code below. You can compare the performance of your model with pre-trained embeddings against a model without the embeddings.\n",
    "\n",
    "\n",
    "\n",
    "---\n",
    "\n",
    "\n",
    "\n",
    "A sequence to sequence model (Seq2Seq) has two components:\n",
    "- An Encoder consisting of an embedding layer and LSTM unit.\n",
    "- A Decoder consisting of an embedding layer, LSTM unit, and linear output unit.\n",
    "\n",
    "The Seq2Seq model works by accepting an input into the Encoder, passing the hidden state from the Encoder to the Decoder, which the Decoder uses to output a series of token predictions.\n",
    "\n",
    "## Dependencies\n",
    "\n",
    "- Pytorch\n",
    "- Numpy\n",
    "- Pandas\n",
    "- NLTK\n",
    "- Gzip\n",
    "- Gensim\n",
    "\n",
    "\n",
    "Please choose a dataset from the Torchtext website. We recommend looking at the Squad dataset first. Here is a link to the website where you can view your options:\n",
    "\n",
    "- https://pytorch.org/text/stable/datasets.html\n",
    "\n",
    "\n",
    "\n"
   ]
  },
  {
   "cell_type": "code",
   "execution_count": 1,
   "metadata": {},
   "outputs": [],
   "source": [
    "import torch\n",
    "from torch.utils.data import Dataset\n",
    "\n",
    "device = torch.device(\"cuda\" if torch.cuda.is_available() else \"cpu\")\n",
    "\n",
    "class QuestionAnswerDataset(Dataset):\n",
    "    def __init__(self, vocab_tensor: torch.Tensor):\n",
    "        super(QuestionAnswerDataset, self).__init__()\n",
    "        self.vocab_tensor = vocab_tensor\n",
    "        # self.vocab = vocab\n",
    "        \n",
    "    def __len__(self):\n",
    "        return len(self.vocab_tensor)\n",
    "    \n",
    "    def __getitem__(self, index):\n",
    "        return self.vocab_tensor[index]"
   ]
  },
  {
   "cell_type": "code",
   "execution_count": 2,
   "metadata": {},
   "outputs": [],
   "source": [
    "# Refer to the code at https://pytorch.org/tutorials/beginner/chatbot_tutorial.html\n",
    "\n",
    "SOS_token = 0  # Start-of-sentence token\n",
    "EOS_token = 1  # End-of-sentence token\n",
    "\n",
    "class Vocab:\n",
    "    def __init__(self, name):\n",
    "        self.name = name\n",
    "        self.word2index = {\"\": SOS_token, \"\": EOS_token}\n",
    "        # self.word2count = {}\n",
    "        self.num_words = len(self.word2index)\n",
    "        self.index2word = {SOS_token: \"\", EOS_token: \"\"}\n",
    "        # self.num_words = 3  # Count SOS, EOS, PAD  \n",
    "        \n",
    "    def addSentence(self, sentence):\n",
    "        for word in sentence.split(\" \"):\n",
    "            self.addWord(word)\n",
    "\n",
    "    def addWord(self, word):\n",
    "        if word not in self.word2index:\n",
    "            self.word2index[word] = self.num_words\n",
    "            # self.word2count[word] = 1\n",
    "            self.index2word[self.num_words] = word\n",
    "            self.num_words += 1\n",
    "        # else:\n",
    "        #     self.word2count[word] += 1\n",
    "            \n",
    "    def get_word2index(self):\n",
    "        return self.word2index\n",
    "    \n",
    "    def get_wordcount(self):\n",
    "        return self.num_words\n"
   ]
  },
  {
   "cell_type": "code",
   "execution_count": 1,
   "metadata": {
    "colab": {
     "base_uri": "https://localhost:8080/"
    },
    "id": "eg81uNTWixbi",
    "outputId": "9c0f9eda-75fb-4526-e9b6-f9a76eeeb007"
   },
   "outputs": [],
   "source": [
    "# Refer to the code at https://github.com/iJoud/Seq2Seq-Chatbot\n",
    "\n",
    "import gensim\n",
    "import nltk\n",
    "import numpy as np\n",
    "import pandas as pd\n",
    "import gzip\n",
    "from nltk.corpus import brown\n",
    "from torchtext import datasets\n",
    "\n",
    "# nltk.download('brown')\n",
    "# nltk.download('punkt')\n",
    "\n",
    "# Output, save, and load brown embeddings\n",
    "\n",
    "model = gensim.models.Word2Vec(brown.sents())\n",
    "# model.save('brown.embedding')\n",
    "\n",
    "w2v = gensim.models.Word2Vec.load('brown.embedding')\n",
    "  \n",
    "\n",
    "def loadDF(path, split=False):\n",
    "  '''\n",
    "\n",
    "  You will use this function to load the dataset into a Pandas Dataframe for processing.\n",
    "\n",
    "  '''\n",
    "  def get_dict(dataiter):\n",
    "        data_dict = {\n",
    "          \"Question\": [],\n",
    "          \"Answer\": [],\n",
    "        }\n",
    "        \n",
    "        for _, question, answer, _ in dataiter:\n",
    "              data_dict[\"Question\"].append(question)\n",
    "              data_dict[\"Answer\"].append(answer[0])\n",
    "              \n",
    "        return data_dict\n",
    "\n",
    "  train_iter, test_iter = datasets.SQuAD2(path, split=(\"train\", \"dev\"))\n",
    "\n",
    "  # train_data_dict, test_data_dict = get_dict(train_iter), get_dict(test_iter)\n",
    "  train_df = pd.DataFrame(get_dict(train_iter))\n",
    "  test_df = pd.DataFrame(get_dict(test_iter))\n",
    "  if split:\n",
    "    return train_df, test_df\n",
    "  return train_df.append(test_df)\n",
    "\n",
    "\n",
    "def prepare_text(sentence):\n",
    "    \n",
    "    '''\n",
    "\n",
    "    Our text needs to be cleaned with a tokenizer. This function will perform that task.\n",
    "    https://www.nltk.org/api/nltk.tokenize.html\n",
    "\n",
    "    '''\n",
    "    from nltk.tokenize import RegexpTokenizer\n",
    "    from nltk.corpus import stopwords\n",
    "\n",
    "    # import string\n",
    "    # stemmer = nltk.stem.snowball.SnowballStemmer('english')\n",
    "    \n",
    "    # sentence = ''.join([s.lower() for s in sentence if s not in string.punctuation])\n",
    "    # sentence = ' '.join(stemmer.stem(w) for w in sentence.split())\n",
    "    # tokens = nltk.tokenize.RegexpTokenizer(r'\\w+').tokenize(sentence)\n",
    "\n",
    "    # return tokens\n",
    "    sentence = sentence.lower()\n",
    "    tokenizer = RegexpTokenizer(r'\\w+')\n",
    "    \n",
    "    tokens = tokenizer.tokenize(sentence)\n",
    "    stop_words = stopwords.words(\"english\")\n",
    "    \n",
    "    new_tokens = []\n",
    "    for token in tokens:\n",
    "        if token not in stop_words:\n",
    "            new_tokens.append(token)\n",
    "    \n",
    "    return new_tokens\n",
    "\n",
    "\n",
    "def train_test_split(SRC, TRG):\n",
    "    \n",
    "    '''\n",
    "    Input: SRC, our list of questions from the dataset\n",
    "            TRG, our list of responses from the dataset\n",
    "\n",
    "    Output: Training and test datasets for SRC & TRG\n",
    "\n",
    "    '''\n",
    "\n",
    "    \n",
    "    return \n"
   ]
  },
  {
   "cell_type": "code",
   "execution_count": 2,
   "metadata": {},
   "outputs": [
    {
     "data": {
      "text/html": [
       "<div>\n",
       "<style scoped>\n",
       "    .dataframe tbody tr th:only-of-type {\n",
       "        vertical-align: middle;\n",
       "    }\n",
       "\n",
       "    .dataframe tbody tr th {\n",
       "        vertical-align: top;\n",
       "    }\n",
       "\n",
       "    .dataframe thead th {\n",
       "        text-align: right;\n",
       "    }\n",
       "</style>\n",
       "<table border=\"1\" class=\"dataframe\">\n",
       "  <thead>\n",
       "    <tr style=\"text-align: right;\">\n",
       "      <th></th>\n",
       "      <th>Question</th>\n",
       "      <th>Answer</th>\n",
       "    </tr>\n",
       "  </thead>\n",
       "  <tbody>\n",
       "    <tr>\n",
       "      <th>0</th>\n",
       "      <td>When did Beyonce start becoming popular?</td>\n",
       "      <td>in the late 1990s</td>\n",
       "    </tr>\n",
       "    <tr>\n",
       "      <th>1</th>\n",
       "      <td>What areas did Beyonce compete in when she was...</td>\n",
       "      <td>singing and dancing</td>\n",
       "    </tr>\n",
       "    <tr>\n",
       "      <th>2</th>\n",
       "      <td>When did Beyonce leave Destiny's Child and bec...</td>\n",
       "      <td>2003</td>\n",
       "    </tr>\n",
       "    <tr>\n",
       "      <th>3</th>\n",
       "      <td>In what city and state did Beyonce  grow up?</td>\n",
       "      <td>Houston, Texas</td>\n",
       "    </tr>\n",
       "    <tr>\n",
       "      <th>4</th>\n",
       "      <td>In which decade did Beyonce become famous?</td>\n",
       "      <td>late 1990s</td>\n",
       "    </tr>\n",
       "    <tr>\n",
       "      <th>...</th>\n",
       "      <td>...</td>\n",
       "      <td>...</td>\n",
       "    </tr>\n",
       "    <tr>\n",
       "      <th>11868</th>\n",
       "      <td>What is the seldom used force unit equal to on...</td>\n",
       "      <td>sthène</td>\n",
       "    </tr>\n",
       "    <tr>\n",
       "      <th>11869</th>\n",
       "      <td>What does not have a metric counterpart?</td>\n",
       "      <td></td>\n",
       "    </tr>\n",
       "    <tr>\n",
       "      <th>11870</th>\n",
       "      <td>What is the force exerted by standard gravity ...</td>\n",
       "      <td></td>\n",
       "    </tr>\n",
       "    <tr>\n",
       "      <th>11871</th>\n",
       "      <td>What force leads to a commonly used unit of mass?</td>\n",
       "      <td></td>\n",
       "    </tr>\n",
       "    <tr>\n",
       "      <th>11872</th>\n",
       "      <td>What force is part of the modern SI system?</td>\n",
       "      <td></td>\n",
       "    </tr>\n",
       "  </tbody>\n",
       "</table>\n",
       "<p>142192 rows × 2 columns</p>\n",
       "</div>"
      ],
      "text/plain": [
       "                                                Question               Answer\n",
       "0               When did Beyonce start becoming popular?    in the late 1990s\n",
       "1      What areas did Beyonce compete in when she was...  singing and dancing\n",
       "2      When did Beyonce leave Destiny's Child and bec...                 2003\n",
       "3          In what city and state did Beyonce  grow up?        Houston, Texas\n",
       "4             In which decade did Beyonce become famous?           late 1990s\n",
       "...                                                  ...                  ...\n",
       "11868  What is the seldom used force unit equal to on...               sthène\n",
       "11869           What does not have a metric counterpart?                     \n",
       "11870  What is the force exerted by standard gravity ...                     \n",
       "11871  What force leads to a commonly used unit of mass?                     \n",
       "11872        What force is part of the modern SI system?                     \n",
       "\n",
       "[142192 rows x 2 columns]"
      ]
     },
     "execution_count": 2,
     "metadata": {},
     "output_type": "execute_result"
    }
   ],
   "source": [
    "dataframe = loadDF(\"./data/squad\")\n",
    "dataframe"
   ]
  },
  {
   "cell_type": "code",
   "execution_count": 7,
   "metadata": {},
   "outputs": [
    {
     "data": {
      "text/plain": [
       "pandas.core.series.Series"
      ]
     },
     "execution_count": 7,
     "metadata": {},
     "output_type": "execute_result"
    }
   ],
   "source": [
    "type(dataframe[\"Question\"])"
   ]
  },
  {
   "cell_type": "code",
   "execution_count": 3,
   "metadata": {},
   "outputs": [
    {
     "name": "stderr",
     "output_type": "stream",
     "text": [
      "/home/psm/anaconda3/envs/udacity/lib/python3.7/site-packages/ipykernel_launcher.py:3: SettingWithCopyWarning: \n",
      "A value is trying to be set on a copy of a slice from a DataFrame.\n",
      "Try using .loc[row_indexer,col_indexer] = value instead\n",
      "\n",
      "See the caveats in the documentation: https://pandas.pydata.org/pandas-docs/stable/user_guide/indexing.html#returning-a-view-versus-a-copy\n",
      "  This is separate from the ipykernel package so we can avoid doing imports until\n",
      "/home/psm/anaconda3/envs/udacity/lib/python3.7/site-packages/ipykernel_launcher.py:4: SettingWithCopyWarning: \n",
      "A value is trying to be set on a copy of a slice from a DataFrame.\n",
      "Try using .loc[row_indexer,col_indexer] = value instead\n",
      "\n",
      "See the caveats in the documentation: https://pandas.pydata.org/pandas-docs/stable/user_guide/indexing.html#returning-a-view-versus-a-copy\n",
      "  after removing the cwd from sys.path.\n"
     ]
    }
   ],
   "source": [
    "dataframe = dataframe.iloc[:10000, :]\n",
    "# test_df = test_df.iloc[:10000, :]\n",
    "dataframe[\"Question\"] = dataframe[\"Question\"].apply(prepare_text)\n",
    "dataframe[\"Answer\"] = dataframe[\"Answer\"].apply(prepare_text)"
   ]
  },
  {
   "cell_type": "code",
   "execution_count": 4,
   "metadata": {},
   "outputs": [
    {
     "data": {
      "text/plain": [
       "0                     [beyonce, start, becoming, popular]\n",
       "1                      [areas, beyonce, compete, growing]\n",
       "2       [beyonce, leave, destiny, child, become, solo,...\n",
       "3                            [city, state, beyonce, grow]\n",
       "4                       [decade, beyonce, become, famous]\n",
       "                              ...                        \n",
       "9995                  [many, kelvins, daylight, measured]\n",
       "9996     [color, temperature, around, 2800, 3000, kelvin]\n",
       "9997    [said, lights, high, color, temperature, energ...\n",
       "9998         [lamp, energy, yellow, red, spectrum, known]\n",
       "9999    [light, classified, intended, purpose, mainly,...\n",
       "Name: Question, Length: 10000, dtype: object"
      ]
     },
     "execution_count": 4,
     "metadata": {},
     "output_type": "execute_result"
    }
   ],
   "source": [
    "dataframe[\"Question\"]"
   ]
  },
  {
   "cell_type": "code",
   "execution_count": 5,
   "metadata": {},
   "outputs": [
    {
     "data": {
      "text/plain": [
       "0                     [late, 1990s]\n",
       "1                [singing, dancing]\n",
       "2                            [2003]\n",
       "3                  [houston, texas]\n",
       "4                     [late, 1990s]\n",
       "                   ...             \n",
       "9995                         [6400]\n",
       "9996           [incandescent, bulb]\n",
       "9997                  [blue, white]\n",
       "9998    [lower, color, temperature]\n",
       "9999     [light, produced, fixture]\n",
       "Name: Answer, Length: 10000, dtype: object"
      ]
     },
     "execution_count": 5,
     "metadata": {},
     "output_type": "execute_result"
    }
   ],
   "source": [
    "dataframe[\"Answer\"]"
   ]
  }
 ],
 "metadata": {
  "colab": {
   "collapsed_sections": [],
   "name": "(Starter Code) LSTM Bot",
   "provenance": []
  },
  "kernelspec": {
   "display_name": "udacity",
   "language": "python",
   "name": "python3"
  },
  "language_info": {
   "codemirror_mode": {
    "name": "ipython",
    "version": 3
   },
   "file_extension": ".py",
   "mimetype": "text/x-python",
   "name": "python",
   "nbconvert_exporter": "python",
   "pygments_lexer": "ipython3",
   "version": "3.7.15"
  },
  "vscode": {
   "interpreter": {
    "hash": "70b1468aaabe55c14f161415337255d6853b73d764a68a8678ace8adabf118cc"
   }
  }
 },
 "nbformat": 4,
 "nbformat_minor": 1
}
